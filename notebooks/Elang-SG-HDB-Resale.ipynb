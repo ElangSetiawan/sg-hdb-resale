{
 "cells": [
  {
   "cell_type": "code",
   "execution_count": null,
   "id": "37b8a0a2",
   "metadata": {},
   "outputs": [],
   "source": [
    "# Capstone Project: Singapore HDB Resale Price Prediction\n",
    "___\n",
    "\n",
    "<p align = 'center'>\n",
    "  <img src = 'https://raw.githubusercontent.com/ElangSetiawan/sg-hdb-resale/blob/main/images/default_HDB.jpg' width = 75%>\n",
    "<p/>\n",
    "Source : https://www.straitstimes.com/singapore/housing/households-that-received-help-with-mortgage-payments-nearly-triple-that-of-same\n",
    "\n",
    "\n",
    "**Problem Statement**\n",
    "\n",
    "West Nile virus (WNV) is a single-stranded RNA virus that causes West Nile fever. It is a member of the family Flaviviridae, from the genus Flavivirus, which also contains the Zika virus, dengue virus, and yellow fever virus. The virus is primarily transmitted by mosquitoes, mostly species of Culex. It has been causing significant and sometimes severe human diseases. Although pesticides are known to be effective in dealing with the virus-carrying mosquitoes, it is expensive to deploy pesticides throughout the city.\n",
    "\n",
    "As data scientists, we want to understand the factors driving the spread of WNV by leveraging on data collected by Chicago's surveillance system, weather stations, and pesticide spray deployment, in order to develop a classfication model that could predict the presence of WNV within the area of the city. Through these studies, we hope to suggest a cost-efficient and effective method of deploying pesticides within the area.\n",
    "\n",
    "**Model Explored**\n",
    "\n",
    "|Models|Description|\n",
    "|---|---|\n",
    "|Random Forest Classifier|With & Without Smote|\n",
    "|Gradient Boosting Classifier|With & Without Smote|\n",
    "|XGB Classifier|With & Without Smote|\n",
    "\n",
    "**Evaluation Metrics**\n",
    "\n",
    "`Since this is a classification model , we will evaluate how will our model will perform in classifying between a the presence of Wnv. Depending on the preprocessing method, different evaluation metric will be used accordingly.`\n",
    "  * `For Imbalanced Data : F1 Score , Precision , AUC`\n",
    "  * `For Balanced Data : F1 Score , Accuracy`\n",
    "  * `Others Metrics : Recall Score`\n",
    "\n",
    "**Workflow Process**  \n",
    "1. Notebook 1 of 2 : General EDA\n",
    "2. Notebook 1 of 2 : EDA on Geolocation\n",
    "3. Notebook 2 of 2 : Data Preprocessing\n",
    "4. Notebook 2 of 2 : Feature Engineering\n",
    "5. Notebook 2 of 2 : Create Model\n",
    "6. Notebook 2 of 2 : Processing Dataframe for Kaggle Submission\n",
    "7. Notebook 2 of 2 : Cost Benefit Analysis\n"
   ]
  }
 ],
 "metadata": {
  "kernelspec": {
   "display_name": "Python 3 (ipykernel)",
   "language": "python",
   "name": "python3"
  },
  "language_info": {
   "codemirror_mode": {
    "name": "ipython",
    "version": 3
   },
   "file_extension": ".py",
   "mimetype": "text/x-python",
   "name": "python",
   "nbconvert_exporter": "python",
   "pygments_lexer": "ipython3",
   "version": "3.8.11"
  }
 },
 "nbformat": 4,
 "nbformat_minor": 5
}
