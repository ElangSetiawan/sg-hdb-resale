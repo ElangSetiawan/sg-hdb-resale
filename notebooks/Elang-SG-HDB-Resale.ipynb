{
 "cells": [
  {
   "cell_type": "markdown",
   "id": "25d5640c",
   "metadata": {},
   "source": [
    "# Capstone Project: Singapore HDB Resale Price Prediction\n",
    "___\n",
    "\n",
    "<p align = 'center'>\n",
    "  <img src = \"https://github.com/ElangSetiawan/sg-hdb-resale/blob/main/images/hdb_shintaro_tay_st_photo.jpg?raw=true\" width = 75%>\n",
    "<p/>\n",
    "Source : https://www.straitstimes.com/singapore/housing/households-that-received-help-with-mortgage-payments-nearly-triple-that-of-same\n",
    "\n",
    "\n",
    "**Problem Statement**\n",
    "\n",
    "Public housing in Singapore is subsidised housing built and managed by the government under the Housing and Development Board (HDB). Most public housing in Singapore is owner-occupied. Under Singapore’s housing ownership programme, housing units are sold to applicants who meet certain income, citizenship and property ownership requirements, on a 99-year leasehold. The estate’s land and common areas continue to be owned by the government. Owner-occupied public housing can be sold to others in a resale market, subject to certain restrictions. Prices within the resale market are not regulated by the government.\n",
    "\n",
    "Demand for resale flats since the end of the Circuit Breaker has pushed prices and sales to new highs. According to the HDB Price Index in Q2 2021, resale flat prices climbed 3% from Q1 2021, growing for the fifth consecutive quarter since Q2 2020. Prices were also 11% higher compared to a year ago. As data scientists, we want to understand the factors driving the price of resale flats as and provide predicted sale price for property portals.\n",
    "\n",
    "**Model Explored**\n",
    "\n",
    "|Models|Description|\n",
    "|---|---|\n",
    "|LinearRegression|\n",
    "|XGBRegressor|\n",
    "\n",
    "\n",
    "**Evaluation Metrics**\n",
    "\n",
    "The evaluation metrics will be overfitting/underfitting of less than 2% between train and test data.\n",
    "\n",
    "**Workflow Process**  \n",
    "1. Notebook 1 of 2 : General EDA\n",
    "2. Notebook 1 of 2 : EDA on Geolocation\n",
    "3. Notebook 2 of 2 : Data Preprocessing\n",
    "4. Notebook 2 of 2 : Feature Engineering\n",
    "5. Notebook 2 of 2 : Create Model\n",
    "6. Notebook 2 of 2 : Iterative Model tuning\n"
   ]
  },
  {
   "cell_type": "markdown",
   "id": "59efb2ff",
   "metadata": {},
   "source": []
  },
  {
   "cell_type": "code",
   "execution_count": null,
   "id": "afc42fd8",
   "metadata": {},
   "outputs": [],
   "source": [
    "# # installing less common packages (uncomment if you do not have these installed)\n",
    "# !pip install geopy\n",
    "# !pip install geopandas\n",
    "# !pip install featuretools"
   ]
  },
  {
   "cell_type": "code",
   "execution_count": null,
   "id": "b0fe1aca",
   "metadata": {},
   "outputs": [],
   "source": [
    "import pandas as pd, numpy as np\n",
    "import scipy.stats as stats\n",
    "import matplotlib.pyplot as plt\n",
    "from matplotlib.lines import Line2D\n",
    "from matplotlib.ticker import (MultipleLocator, FormatStrFormatter,\n",
    "                               AutoMinorLocator)\n",
    "from mpl_toolkits import mplot3d\n",
    "import seaborn as sns\n",
    "\n",
    "import geopandas as gpd\n",
    "from geopandas import GeoSeries, GeoDataFrame\n",
    "from geopy.distance import geodesic\n",
    "\n",
    "import datetime as dt\n",
    "\n",
    "import shapely\n",
    "from shapely import geometry\n",
    "from shapely import ops\n",
    "from shapely.geometry import Point, LineString, Polygon, MultiPoint\n",
    "from shapely.ops import nearest_points\n",
    "\n",
    "import warnings\n",
    "warnings.filterwarnings('ignore')\n",
    "\n",
    "from sklearn.impute import SimpleImputer\n",
    "\n",
    "from sklearn.cluster import DBSCAN\n",
    "from sklearn.preprocessing import StandardScaler, MinMaxScaler\n",
    "from sklearn.metrics import silhouette_score\n",
    "from sklearn.neighbors import KNeighborsClassifier\n",
    "\n",
    "\n",
    "sns.set_style('ticks')\n",
    "\n",
    "pd.set_option('display.max_columns', None)\n",
    "\n",
    "%matplotlib inline"
   ]
  },
  {
   "cell_type": "markdown",
   "id": "a6f91539",
   "metadata": {},
   "source": [
    "# 1.0 Data Import\n",
    "___"
   ]
  },
  {
   "cell_type": "code",
   "execution_count": null,
   "id": "c8e1bcac",
   "metadata": {},
   "outputs": [],
   "source": [
    "df_train = pd.read_csv('/content/train.csv')\n",
    "df_test = pd.read_csv('/content/test.csv')\n",
    "df_spray = pd.read_csv('/content/spray.csv')\n",
    "df_weather = pd.read_csv('/content/weather.csv')\n",
    "\n",
    "df_train.shape,df_test.shape,df_spray.shape,df_weather.shape"
   ]
  }
 ],
 "metadata": {
  "kernelspec": {
   "display_name": "Python 3 (ipykernel)",
   "language": "python",
   "name": "python3"
  },
  "language_info": {
   "codemirror_mode": {
    "name": "ipython",
    "version": 3
   },
   "file_extension": ".py",
   "mimetype": "text/x-python",
   "name": "python",
   "nbconvert_exporter": "python",
   "pygments_lexer": "ipython3",
   "version": "3.8.11"
  }
 },
 "nbformat": 4,
 "nbformat_minor": 5
}
